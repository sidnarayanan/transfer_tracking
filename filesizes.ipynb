{
 "cells": [
  {
   "cell_type": "code",
   "execution_count": 3,
   "metadata": {
    "collapsed": true
   },
   "outputs": [],
   "source": [
    "import json \n",
    "import time \n",
    "import sqlite3\n",
    "conn = sqlite3.connect('t0data.sqlite')\n",
    "cursor = conn.cursor()"
   ]
  },
  {
   "cell_type": "code",
   "execution_count": 16,
   "metadata": {
    "collapsed": false
   },
   "outputs": [],
   "source": [
    "if True:\n",
    "    \n",
    "    cursor.execute('DROP TABLE IF EXISTS files')\n",
    "    cursor.execute('CREATE TABLE files (lfn TEXT, size INTEGER, timestamp INTEGER)')\n",
    "    \n",
    "    records = []\n",
    "    payload = json.load(open('t0data.json'))['phedex']['dbs'][0]\n",
    "    for d in payload['dataset']:\n",
    "        for b in d['block']:\n",
    "            for f in b['file']:\n",
    "                lfn = f['lfn']\n",
    "                timestamp = f['time_create']\n",
    "                size = f['size'] / 1e9\n",
    "                records.append((lfn, size, timestamp))\n",
    "    cursor.executemany('INSERT INTO files VALUES (?,?,?)',records)\n",
    "    conn.commit()"
   ]
  },
  {
   "cell_type": "code",
   "execution_count": null,
   "metadata": {
    "collapsed": false
   },
   "outputs": [
    {
     "name": "stdout",
     "output_type": "stream",
     "text": [
      "Loading data...\n"
     ]
    }
   ],
   "source": [
    "import numpy as np\n",
    "import matplotlib.pyplot as plt\n",
    "import matplotlib.dates as mdates\n",
    "import seaborn\n",
    "import matplotlib as mpl\n",
    "from scipy.stats import gaussian_kde\n",
    "import re \n",
    "\n",
    "seaborn.set(style=\"ticks\")\n",
    "seaborn.set_context(\"poster\")\n",
    "mpl.rcParams['axes.linewidth'] = 1.25\n",
    "fig_size = plt.rcParams['figure.figsize']\n",
    "fig_size[0] = 10\n",
    "fig_size[1] = 9\n",
    "plt.rcParams['figure.figsize'] = fig_size\n",
    "\n",
    "x = []\n",
    "y = []\n",
    "cmd = 'SELECT timestamp, size, lfn FROM files'\n",
    "print 'Loading data...'\n",
    "for data in cursor.execute(cmd):\n",
    "    if not re.match(data[2], '.*RECO.*'):\n",
    "        continue\n",
    "    x.append(data[0])\n",
    "    y.append(data[1])\n",
    "now = time.time()\n",
    "dates = (np.array(x) - now)/86400\n",
    "sizes = np.array(y)\n",
    "\n",
    "bins = np.arange(-30*3, 0, 3)\n",
    "counts = np.histogram(dates, bins=bins)\n",
    "volume = np.histogram(dates, bins=bins, weights=sizes)\n",
    "\n",
    "plt.clf()\n",
    "plt.hist(bins[:-1], bins=bins, \n",
    "         weights=np.nan_to_num(volume[0] / counts[0]))\n",
    "plt.xlabel('Time ago [days]')\n",
    "plt.ylabel('Average file size [GB]')\n",
    "plt.show()"
   ]
  },
  {
   "cell_type": "code",
   "execution_count": null,
   "metadata": {
    "collapsed": true
   },
   "outputs": [],
   "source": []
  }
 ],
 "metadata": {
  "kernelspec": {
   "display_name": "Python 2",
   "language": "python",
   "name": "python2"
  },
  "language_info": {
   "codemirror_mode": {
    "name": "ipython",
    "version": 2
   },
   "file_extension": ".py",
   "mimetype": "text/x-python",
   "name": "python",
   "nbconvert_exporter": "python",
   "pygments_lexer": "ipython2",
   "version": "2.7.12"
  }
 },
 "nbformat": 4,
 "nbformat_minor": 2
}
